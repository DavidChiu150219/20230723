{
 "cells": [
  {
   "cell_type": "code",
   "execution_count": 7,
   "metadata": {},
   "outputs": [
    {
     "name": "stdout",
     "output_type": "stream",
     "text": [
      "梯形面積是：12.8018 cm^2\n"
     ]
    }
   ],
   "source": [
    "u=eval(input('請輸入上底（cm）：'))\n",
    "b=eval(input('請輸入下底（cm）：'))\n",
    "h=eval(input('請輸入高（cm）：'))\n",
    "a=(u+b)*h/2\n",
    "print(f'梯形面積是：{a:.4f} cm^2')\n"
   ]
  }
 ],
 "metadata": {
  "kernelspec": {
   "display_name": "Python 3",
   "language": "python",
   "name": "python3"
  },
  "language_info": {
   "codemirror_mode": {
    "name": "ipython",
    "version": 3
   },
   "file_extension": ".py",
   "mimetype": "text/x-python",
   "name": "python",
   "nbconvert_exporter": "python",
   "pygments_lexer": "ipython3",
   "version": "3.10.12"
  },
  "orig_nbformat": 4
 },
 "nbformat": 4,
 "nbformat_minor": 2
}
