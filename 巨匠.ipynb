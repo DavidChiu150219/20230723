{
 "cells": [
  {
   "cell_type": "code",
   "execution_count": 7,
   "metadata": {},
   "outputs": [
    {
     "name": "stdout",
     "output_type": "stream",
     "text": [
      "梯形面積是：12.8018 cm^2\n"
     ]
    }
   ],
   "source": [
    "u=eval(input('請輸入上底（cm）：'))\n",
    "b=eval(input('請輸入下底（cm）：'))\n",
    "h=eval(input('請輸入高（cm）：'))\n",
    "a=(u+b)*h/2\n",
    "print(f'梯形面積是：{a:.4f} cm^2')\n"
   ]
  },
  {
   "cell_type": "code",
   "execution_count": 6,
   "metadata": {},
   "outputs": [
    {
     "name": "stdout",
     "output_type": "stream",
     "text": [
      "對邊為4，鄰邊為3，角度為53.130\n"
     ]
    }
   ],
   "source": [
    "from math import asin, acos, degrees,sqrt\n",
    "a=eval(input())\n",
    "b=eval(input())\n",
    "c=sqrt(a**2+b**2)\n",
    "s=asin(a/c)\n",
    "o=acos(b/c)\n",
    "\n",
    "d=round(degrees(s),ndigits=3)\n",
    "print(f'對邊為{a}，鄰邊為{b}，角度為{d:.3f}')"
   ]
  },
  {
   "cell_type": "code",
   "execution_count": 19,
   "metadata": {},
   "outputs": [
    {
     "name": "stdout",
     "output_type": "stream",
     "text": [
      "輸入格式有錯誤\n"
     ]
    }
   ],
   "source": [
    "try:\n",
    "    score = int(input(\"請輸入學生分數(最高300分):\"))\n",
    "    print(f'分數是{score}')\n",
    "except:\n",
    "    print(\"輸入格式有錯誤\")"
   ]
  },
  {
   "cell_type": "code",
   "execution_count": 19,
   "metadata": {},
   "outputs": [
    {
     "name": "stdout",
     "output_type": "stream",
     "text": [
      "格式有誤\n"
     ]
    }
   ],
   "source": [
    "\n",
    "try:\n",
    "    s=float(input('請輸入分數：'))\n",
    "    if s>=90:\n",
    "        print('優')\n",
    "    else:\n",
    "        if s>=80:\n",
    "            print('甲')\n",
    "        else:\n",
    "            if s>=70:\n",
    "                print('乙')\n",
    "            elif s>=60 and s<70:\n",
    "                print('丙')\n",
    "            else:\n",
    "                print('不及格')\n",
    "except:\n",
    "    print('格式有誤')"
   ]
  },
  {
   "cell_type": "code",
   "execution_count": 5,
   "metadata": {},
   "outputs": [
    {
     "name": "stdout",
     "output_type": "stream",
     "text": [
      "y value errror\n"
     ]
    }
   ],
   "source": [
    "\n",
    "try: \n",
    "    x=int(input())\n",
    "except:\n",
    "    print('x value error')\n",
    "else:\n",
    "    try:\n",
    "        y=int(input())\n",
    "        r=0\n",
    "\n",
    "        if x>=0:\n",
    "            r=x**(1/y)\n",
    "        elif x%2==0:\n",
    "            r=0\n",
    "        else:\n",
    "            r=-(-x)**(1/y)\n",
    "        print(f'root={r}')\n",
    "    except:\n",
    "        print('y value errror')"
   ]
  },
  {
   "cell_type": "code",
   "execution_count": 9,
   "metadata": {},
   "outputs": [
    {
     "name": "stdout",
     "output_type": "stream",
     "text": [
      "Bonus is 500\n"
     ]
    }
   ],
   "source": [
    "try:\n",
    "    c=float(input('Chinese score:'))\n",
    "    m=float(input('math score:'))\n",
    "except:\n",
    "    print('Error')\n",
    "else:\n",
    "    p=0\n",
    "\n",
    "    if c==100 or m==100:\n",
    "        if c==100 and m==100:\n",
    "            p=1000\n",
    "        else:\n",
    "            p=500\n",
    "    else:\n",
    "        p=0\n",
    "    print(f'Bonus is {p}')"
   ]
  },
  {
   "cell_type": "code",
   "execution_count": 11,
   "metadata": {},
   "outputs": [
    {
     "name": "stdout",
     "output_type": "stream",
     "text": [
      "bonus is 1000\n"
     ]
    }
   ],
   "source": [
    "try:\n",
    "    c=float(input('Chinese score:'))\n",
    "    m=float(input('math score:'))\n",
    "except:\n",
    "    print('Error')\n",
    "else:\n",
    "    p=0\n",
    "    if c==100 and m==100:\n",
    "        p=1000\n",
    "    elif c==100 or m==100:\n",
    "        p=500\n",
    "    print(f'bonus is {p}')"
   ]
  },
  {
   "cell_type": "code",
   "execution_count": 1,
   "metadata": {},
   "outputs": [
    {
     "name": "stdout",
     "output_type": "stream",
     "text": [
      "あなたのBMIは 41.3です。\n",
      "重度肥胖\n"
     ]
    }
   ],
   "source": [
    "try:\n",
    "    w=float(input('体重を入力してください：'))\n",
    "    h=float(input('身長を入力してください（メートル）：'))\n",
    "\n",
    "except:\n",
    "    print('Error')\n",
    "else:\n",
    "    def BMI(w,h):\n",
    "        return w/h**2\n",
    "    b=BMI(w,h)\n",
    "    print(f'あなたのBMIは {round(b,ndigits=2)}です。')\n",
    "\n",
    "\n",
    "    if b<18.5:\n",
    "        print('過輕')\n",
    "    elif b<24:\n",
    "        print('正常')\n",
    "    elif b<27:\n",
    "        print('過重')\n",
    "    elif b<30:\n",
    "        print('輕度肥胖')\n",
    "    elif b<35:\n",
    "        print('中度肥胖')\n",
    "    else:\n",
    "        print('重度肥胖')\n",
    "    "
   ]
  },
  {
   "cell_type": "code",
   "execution_count": 2,
   "metadata": {},
   "outputs": [
    {
     "name": "stdout",
     "output_type": "stream",
     "text": [
      "奇數2500\n",
      "偶數2550\n"
     ]
    }
   ],
   "source": [
    "l=[]\n",
    "m=[]\n",
    "\n",
    "for i in range (50):\n",
    "    l.append(2*i+1)\n",
    "    m.append(2*i+2)\n",
    "print(f'奇數{sum(l)}')\n",
    "print(f'偶數{sum(m)}')\n",
    "\n"
   ]
  },
  {
   "cell_type": "code",
   "execution_count": 8,
   "metadata": {},
   "outputs": [
    {
     "name": "stdout",
     "output_type": "stream",
     "text": [
      "1024~4096之偶數和為3934720,奇數和為3932160\n"
     ]
    }
   ],
   "source": [
    "s=int(input())\n",
    "e=int(input())\n",
    "\n",
    "x=0\n",
    "y=0\n",
    "for i in range(s,e+1):\n",
    "    if i%2==True:\n",
    "        x+=i\n",
    "    else:\n",
    "        y+=i\n",
    "\n",
    "print(f'{s}~{e}之偶數和為{y},奇數和為{x}')"
   ]
  },
  {
   "cell_type": "code",
   "execution_count": 2,
   "metadata": {},
   "outputs": [
    {
     "name": "stdout",
     "output_type": "stream",
     "text": [
      "2\n",
      "33000\n"
     ]
    }
   ],
   "source": [
    "i=0\n",
    "l=[]\n",
    "while i<30000:\n",
    "    d=int(input())\n",
    "    i+=d\n",
    "    l.append(d)\n",
    "print(len(l))\n",
    "print(sum(l))"
   ]
  },
  {
   "cell_type": "code",
   "execution_count": null,
   "metadata": {},
   "outputs": [],
   "source": [
    "l=[]\n",
    "while True:\n",
    "    x=int(input())\n",
    "    if x>=0:\n",
    "        if x%2==False:\n",
    "            l.append(x)\n",
    "        else:\n",
    "            continue\n",
    "    else:\n",
    "        break\n",
    "print(sum(l))\n",
    "\n"
   ]
  },
  {
   "cell_type": "code",
   "execution_count": 7,
   "metadata": {},
   "outputs": [
    {
     "name": "stdout",
     "output_type": "stream",
     "text": [
      "The answer is bigger\n",
      "The answer is smaller\n",
      "The answer is bigger\n",
      "The answer is smaller\n",
      "Congratulations! The answer is 68\n",
      "This is the end of the game\n"
     ]
    }
   ],
   "source": [
    "\n",
    "while True:\n",
    "    import random \n",
    "    mini=int(input('Please enter the minimum:'))\n",
    "    maxi=int(input('Please enter the maximum:'))\n",
    "    n=random.randint(mini,maxi)\n",
    "    t=0\n",
    "\n",
    "    while True:\n",
    "        x=int(input(f'Please enter a number between {mini} and {maxi}:'))\n",
    "        t+=1\n",
    "        if x<mini or x>maxi:\n",
    "            print('out of range')\n",
    "        else:\n",
    "            if x!=n:\n",
    "                if x>n:\n",
    "                    print('The answer is smaller')\n",
    "                    maxi=x\n",
    "                else:\n",
    "                    print('The answer is bigger')\n",
    "                    mini=x\n",
    "            else:\n",
    "                break\n",
    "    print(f'Congratulations! The answer is {n}')\n",
    "\n",
    "    try:\n",
    "        a=str(input('Do you want to continue?(y or n)'))\n",
    "    except:\n",
    "        print('Enter again!')\n",
    "    else:\n",
    "        if a=='n':\n",
    "            break\n",
    "print('This is the end of the game')"
   ]
  },
  {
   "cell_type": "code",
   "execution_count": null,
   "metadata": {},
   "outputs": [],
   "source": []
  },
  {
   "cell_type": "code",
   "execution_count": 1,
   "metadata": {},
   "outputs": [
    {
     "name": "stdout",
     "output_type": "stream",
     "text": [
      "\n"
     ]
    }
   ],
   "source": [
    "while True:\n",
    "    s=str(input())\n",
    "    if s=='q':\n",
    "        break\n",
    "    else:\n",
    "        print(s.capitalize())"
   ]
  },
  {
   "cell_type": "code",
   "execution_count": 11,
   "metadata": {},
   "outputs": [
    {
     "name": "stdout",
     "output_type": "stream",
     "text": [
      "1\n",
      "22\n",
      "333\n",
      "4444\n",
      "55555\n",
      "666666\n",
      "7777777\n",
      "88888888\n",
      "999999999\n"
     ]
    }
   ],
   "source": [
    "a=int(input())\n",
    "\n",
    "for i in range(1,a+1):\n",
    "    for j in range(i):\n",
    "        print(i,end='')\n",
    "    print()"
   ]
  },
  {
   "cell_type": "code",
   "execution_count": 15,
   "metadata": {},
   "outputs": [
    {
     "name": "stdout",
     "output_type": "stream",
     "text": [
      "0 * 0 = 0  0 * 1 = 0  0 * 2 = 0  0 * 3 = 0  0 * 4 = 0  0 * 5 = 0  0 * 6 = 0  0 * 7 = 0  0 * 8 = 0  0 * 9 = 0  \n",
      "1 * 0 = 0  1 * 1 = 1  1 * 2 = 2  1 * 3 = 3  1 * 4 = 4  1 * 5 = 5  1 * 6 = 6  1 * 7 = 7  1 * 8 = 8  1 * 9 = 9  \n",
      "2 * 0 = 0  2 * 1 = 2  2 * 2 = 4  2 * 3 = 6  2 * 4 = 8  2 * 5 =10  2 * 6 =12  2 * 7 =14  2 * 8 =16  2 * 9 =18  \n",
      "3 * 0 = 0  3 * 1 = 3  3 * 2 = 6  3 * 3 = 9  3 * 4 =12  3 * 5 =15  3 * 6 =18  3 * 7 =21  3 * 8 =24  3 * 9 =27  \n",
      "4 * 0 = 0  4 * 1 = 4  4 * 2 = 8  4 * 3 =12  4 * 4 =16  4 * 5 =20  4 * 6 =24  4 * 7 =28  4 * 8 =32  4 * 9 =36  \n",
      "5 * 0 = 0  5 * 1 = 5  5 * 2 =10  5 * 3 =15  5 * 4 =20  5 * 5 =25  5 * 6 =30  5 * 7 =35  5 * 8 =40  5 * 9 =45  \n",
      "6 * 0 = 0  6 * 1 = 6  6 * 2 =12  6 * 3 =18  6 * 4 =24  6 * 5 =30  6 * 6 =36  6 * 7 =42  6 * 8 =48  6 * 9 =54  \n",
      "7 * 0 = 0  7 * 1 = 7  7 * 2 =14  7 * 3 =21  7 * 4 =28  7 * 5 =35  7 * 6 =42  7 * 7 =49  7 * 8 =56  7 * 9 =63  \n",
      "8 * 0 = 0  8 * 1 = 8  8 * 2 =16  8 * 3 =24  8 * 4 =32  8 * 5 =40  8 * 6 =48  8 * 7 =56  8 * 8 =64  8 * 9 =72  \n",
      "9 * 0 = 0  9 * 1 = 9  9 * 2 =18  9 * 3 =27  9 * 4 =36  9 * 5 =45  9 * 6 =54  9 * 7 =63  9 * 8 =72  9 * 9 =81  \n"
     ]
    }
   ],
   "source": [
    "for i in range(10):\n",
    "    for j in range(10):\n",
    "        print(f'{i:<2d}*{j:2d} ={i*j:>2d}',end='  ')\n",
    "    print()"
   ]
  },
  {
   "cell_type": "code",
   "execution_count": 23,
   "metadata": {},
   "outputs": [
    {
     "name": "stdout",
     "output_type": "stream",
     "text": [
      "[2, 3, 5, 7, 11, 13, 17, 19, 23, 29, 31, 37, 41, 43, 47, 53, 59, 61, 67, 71, 73, 79, 83, 89, 97, 101, 103, 107, 109, 113, 127]\n"
     ]
    }
   ],
   "source": [
    "n=int(input())\n",
    "l=[]\n",
    "m=[]\n",
    "for i in range(2,n+1):\n",
    "    for j in range(1,i):\n",
    "        if i%j==False:\n",
    "            l.append(j)\n",
    "    if l==[1]:\n",
    "        m.append(i)\n",
    "    l=[]\n",
    "\n",
    "print(m)\n",
    "\n",
    "    \n",
    "\n",
    "        \n",
    "            \n",
    "        "
   ]
  },
  {
   "cell_type": "code",
   "execution_count": 5,
   "metadata": {},
   "outputs": [
    {
     "data": {
      "text/plain": [
       "True"
      ]
     },
     "execution_count": 5,
     "metadata": {},
     "output_type": "execute_result"
    }
   ],
   "source": [
    "3%2==True\n",
    "4%2==False"
   ]
  },
  {
   "cell_type": "code",
   "execution_count": 9,
   "metadata": {},
   "outputs": [
    {
     "data": {
      "image/png": "[encoded data removed]",
      "text/latex": [
       "$\\displaystyle \\frac{\\sqrt{2} e^{- x^{2} - y^{2}}}{2 \\sqrt{\\pi}}$"
      ],
      "text/plain": [
       "       2    2\n",
       "    - x  - y \n",
       "√2⋅ℯ         \n",
       "─────────────\n",
       "     2⋅√π    "
      ]
     },
     "metadata": {},
     "output_type": "display_data"
    },
    {
     "data": {
      "image/png": "[encoded data removed]",
      "text/latex": [
       "$\\displaystyle \\frac{\\sqrt{2} \\sqrt{\\pi}}{2}$"
      ],
      "text/plain": [
       "√2⋅√π\n",
       "─────\n",
       "  2  "
      ]
     },
     "metadata": {},
     "output_type": "display_data"
    }
   ],
   "source": [
    "import sympy\n",
    "sympy.init_printing()\n",
    "sympy.var('x,y')\n",
    "\n",
    "f=sympy.exp(-x**2-y**2)/sympy.sqrt(2*sympy.pi)\n",
    "i=sympy.integrate(f,(x,-sympy.oo,sympy.oo),(y,-sympy.oo,sympy.oo))\n",
    "j=sympy.simplify(i)\n",
    "\n",
    "display(f)\n",
    "display(j)\n"
   ]
  },
  {
   "cell_type": "code",
   "execution_count": 14,
   "metadata": {},
   "outputs": [
    {
     "data": {
      "image/png": "[encoded data removed]",
      "text/latex": [
       "$\\displaystyle \\frac{\\sqrt{2} e^{- x^{2} - y^{2}}}{2 \\sqrt{\\pi}}$"
      ],
      "text/plain": [
       "       2    2\n",
       "    - x  - y \n",
       "√2⋅ℯ         \n",
       "─────────────\n",
       "     2⋅√π    "
      ]
     },
     "metadata": {},
     "output_type": "display_data"
    },
    {
     "data": {
      "image/png": "[encoded data removed]",
      "text/latex": [
       "$\\displaystyle \\frac{\\sqrt{2} \\sqrt{\\pi} \\operatorname{erf}{\\left(x \\right)} \\operatorname{erf}{\\left(y \\right)}}{8}$"
      ],
      "text/plain": [
       "√2⋅√π⋅erf(x)⋅erf(y)\n",
       "───────────────────\n",
       "         8         "
      ]
     },
     "metadata": {},
     "output_type": "display_data"
    }
   ],
   "source": [
    "import sympy\n",
    "sympy.init_printing()\n",
    "sympy.var('x,y')\n",
    "\n",
    "f=sympy.exp(-x**2-y**2)/sympy.sqrt(2*sympy.pi)\n",
    "i=sympy.integrate(f,x,y)\n",
    "j=sympy.simplify(i)\n",
    "\n",
    "display(f)\n",
    "display(i)\n"
   ]
  },
  {
   "cell_type": "code",
   "execution_count": 4,
   "metadata": {},
   "outputs": [
    {
     "data": {
      "image/png": "[encoded data removed]",
      "text/latex": [
       "$\\displaystyle \\int\\limits_{0}^{\\pi} e^{- x^{2}} \\cos{\\left(x \\right)}\\, dx$"
      ],
      "text/plain": [
       "π               \n",
       "⌠               \n",
       "⎮    2          \n",
       "⎮  -x           \n",
       "⎮ ℯ   ⋅cos(x) dx\n",
       "⌡               \n",
       "0               "
      ]
     },
     "metadata": {},
     "output_type": "display_data"
    },
    {
     "data": {
      "image/png": "[encoded data removed]",
      "text/latex": [
       "$\\displaystyle \\int\\limits_{0}^{\\pi} e^{- x^{2}} \\cos{\\left(x \\right)}\\, dx$"
      ],
      "text/plain": [
       "π               \n",
       "⌠               \n",
       "⎮    2          \n",
       "⎮  -x           \n",
       "⎮ ℯ   ⋅cos(x) dx\n",
       "⌡               \n",
       "0               "
      ]
     },
     "metadata": {},
     "output_type": "display_data"
    }
   ],
   "source": [
    "import sympy as sp\n",
    "\n",
    "sp.init_printing()\n",
    "sp.var('a,b,x,y')\n",
    "\n",
    "f=sp.cos(x)*sp.exp(-x**2)\n",
    "i=sp.integrate(f,(x,0,sp.pi))\n",
    "j=sp.simplify(i)\n",
    "\n",
    "display(i)\n",
    "display(j)"
   ]
  }
 ],
 "metadata": {
  "kernelspec": {
   "display_name": "Python 3",
   "language": "python",
   "name": "python3"
  },
  "language_info": {
   "codemirror_mode": {
    "name": "ipython",
    "version": 3
   },
   "file_extension": ".py",
   "mimetype": "text/x-python",
   "name": "python",
   "nbconvert_exporter": "python",
   "pygments_lexer": "ipython3",
   "version": "3.10.12"
  },
  "orig_nbformat": 4
 },
 "nbformat": 4,
 "nbformat_minor": 2
}
