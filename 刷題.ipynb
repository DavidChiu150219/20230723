{
 "cells": [
  {
   "cell_type": "code",
   "execution_count": 2,
   "id": "b8636422-c5fe-4ec0-b685-54c0fb3e8a46",
   "metadata": {},
   "outputs": [
    {
     "name": "stdout",
     "output_type": "stream",
     "text": [
      "[15, 10, 10, 18, 18, 5, 13, 21, 21]\n",
      "10 20 21\n"
     ]
    }
   ],
   "source": [
    "i=int(input())\n",
    "j=int(input())\n",
    "a=int()\n",
    "l=[]\n",
    "m=[]\n",
    "if (i>j):\n",
    "    a=i\n",
    "    i=j\n",
    "    j=a\n",
    "    \n",
    "for x in range(i+1,j):\n",
    "    while x!=1:\n",
    "        if (x%2==1):\n",
    "            x=3*x+1\n",
    "            l.append(x)\n",
    "        else:\n",
    "            x=x/2\n",
    "            l.append(x)\n",
    "    l.append(1)\n",
    "    m.append(len(l))\n",
    "    l=[]\n",
    "print(m)\n",
    "print(i,j,max(m))"
   ]
  },
  {
   "cell_type": "code",
   "execution_count": 1,
   "id": "5131a777-c5af-4bf9-a03b-fa4c8b69cb73",
   "metadata": {},
   "outputs": [
    {
     "name": "stdout",
     "output_type": "stream",
     "text": [
      "1\n",
      "22\n",
      "333\n",
      "22\n",
      "1\n",
      "\n",
      "1\n",
      "22\n",
      "333\n",
      "22\n",
      "1\n",
      "\n"
     ]
    }
   ],
   "source": [
    "#Q488: Triangle wave\n",
    "a=int(input())\n",
    "f=int(input())\n",
    "for h in range(1,f+1):\n",
    "    for i in range(1,2*a):\n",
    "        if (i<a+1):\n",
    "            for j in range(1,i+1):\n",
    "                print(i,end='')\n",
    "            print()\n",
    "        else:\n",
    "            for k in range(2*a-i,0,-1):\n",
    "                print(2*a-i,end='')\n",
    "            print()\n",
    "    print()"
   ]
  },
  {
   "cell_type": "code",
   "execution_count": 86,
   "id": "564a224e-0091-4b81-8b3c-a4f4eb2f5af0",
   "metadata": {},
   "outputs": [
    {
     "name": "stdout",
     "output_type": "stream",
     "text": [
      " 0\n",
      " 0\n"
     ]
    }
   ],
   "source": [
    "#Q579: Clock Hands\n",
    "while True:\n",
    "    H=int(input())\n",
    "    M=int(input())\n",
    "    \n",
    "    if H==0 and M==0:\n",
    "        break\n",
    "\n",
    "    deg_M=M*6\n",
    "\n",
    "    if H==12:\n",
    "        deg_H=M*0.5\n",
    "    else:\n",
    "        deg_H=H*30+M*0.5\n",
    "\n",
    "    if abs(deg_M-deg_H)<180:\n",
    "        print(\"{:.3f}\".format(abs(deg_M-deg_H)))\n",
    "    else:\n",
    "        print(\"{:.3f}\".format(360-abs(deg_M-deg_H)))\n",
    "        \n",
    "\n"
   ]
  },
  {
   "cell_type": "code",
   "execution_count": 2,
   "id": "36c12175-f134-4eb4-9d07-806634d1e017",
   "metadata": {},
   "outputs": [
    {
     "name": "stdout",
     "output_type": "stream",
     "text": [
      "[1]\n",
      "[4, 6, 8]\n",
      "[9, 11, 13, 15, 17]\n",
      "[16, 18, 20, 22, 24, 26, 28]\n",
      "[25, 27, 29, 31, 33, 35, 37, 39, 41]\n",
      "[36, 38, 40, 42, 44, 46, 48, 50, 52, 54, 56]\n",
      "[49, 51, 53, 55, 57, 59, 61, 63, 65, 67, 69, 71, 73]\n"
     ]
    }
   ],
   "source": [
    "#Q913: Joana and the Odd Numbers\n",
    "\n",
    "n=int(input())\n",
    "m=[]\n",
    "\n",
    "for i in range(1,n+1,2):\n",
    "    for j in range(1,i+1):\n",
    "        m.append(int(((i+1)/2)**2+j*2-2))\n",
    "    print(m)\n",
    "    m=[]"
   ]
  },
  {
   "cell_type": "code",
   "execution_count": 5,
   "id": "64ab6ebe",
   "metadata": {},
   "outputs": [
    {
     "name": "stdout",
     "output_type": "stream",
     "text": [
      "207\n"
     ]
    }
   ],
   "source": [
    "x=0\n",
    "a=-1\n",
    "y=int(input())\n",
    "z=[]\n",
    "\n",
    "for i in range (1,y+1,2):\n",
    "    x=i+x\n",
    "for j in range (1,x+1):\n",
    "    a=a+2\n",
    "    z.append(a)\n",
    "\n",
    "print(z[x-1]+z[x-2]+z[x-3])"
   ]
  },
  {
   "cell_type": "code",
   "execution_count": 13,
   "id": "197af1df-021b-40a0-b5ae-f36ebd3d3d38",
   "metadata": {},
   "outputs": [
    {
     "name": "stdout",
     "output_type": "stream",
     "text": [
      "Python 3.9.7\n"
     ]
    }
   ],
   "source": [
    "!python --version"
   ]
  },
  {
   "cell_type": "code",
   "execution_count": 8,
   "id": "f59ab767-0996-4a78-af2d-8f2527f4d55b",
   "metadata": {},
   "outputs": [
    {
     "data": {
      "text/plain": [
       "[1, 2, 3, 4, 1, 2, 3, 4]"
      ]
     },
     "execution_count": 8,
     "metadata": {},
     "output_type": "execute_result"
    }
   ],
   "source": [
    "l=[1,2,3,4]\n",
    "2*l"
   ]
  },
  {
   "cell_type": "code",
   "execution_count": 8,
   "id": "6ca545a6",
   "metadata": {},
   "outputs": [
    {
     "name": "stdout",
     "output_type": "stream",
     "text": [
      "NO\n",
      "YES\n",
      "YES\n",
      "NO\n"
     ]
    }
   ],
   "source": [
    "#Q13178\n",
    "n=int(input())\n",
    "for i in range (n):\n",
    "    a=int(input())\n",
    "    if a%3==0:\n",
    "        print('YES')\n",
    "    else:\n",
    "        print('NO')"
   ]
  },
  {
   "cell_type": "code",
   "execution_count": 13,
   "id": "67714bc9",
   "metadata": {},
   "outputs": [
    {
     "name": "stdout",
     "output_type": "stream",
     "text": [
      "deficient\n",
      "perfect\n",
      "deficient\n",
      "abundant\n",
      "deficient\n",
      "perfect\n",
      "deficient\n",
      "abundant\n",
      "abundant\n",
      "deficient\n"
     ]
    }
   ],
   "source": [
    "#Q13185 DPA Numbers I\n",
    "n=int(input())\n",
    "l=[]\n",
    "for i in range (n):\n",
    "    a=int(input())\n",
    "    for j in range(1,a):\n",
    "        if a%j==0:\n",
    "            l.append(j)\n",
    "    \n",
    "    if sum(l)==a:\n",
    "        print('perfect')\n",
    "    elif sum(l)<a:\n",
    "        print('deficient')\n",
    "    else:\n",
    "        print('abundant')\n",
    "    l=[]\n"
   ]
  },
  {
   "cell_type": "code",
   "execution_count": 6,
   "id": "0be15408",
   "metadata": {},
   "outputs": [
    {
     "name": "stdout",
     "output_type": "stream",
     "text": [
      "152\n",
      "70\n"
     ]
    }
   ],
   "source": [
    "#Q11364 Parking\n",
    "n=int(input())\n",
    "l=[]\n",
    "\n",
    "for i in range(n):\n",
    "    x=int(input())\n",
    "    s=str(input())\n",
    "    t=s.split()\n",
    "    for j in range (x):\n",
    "        l.append(int(t[j]))\n",
    "    print(2*(max(l)-min(l)))\n",
    "    l=[]\n",
    "\n",
    "\n"
   ]
  },
  {
   "cell_type": "code",
   "execution_count": 5,
   "id": "2e3369cd",
   "metadata": {},
   "outputs": [
    {
     "name": "stdout",
     "output_type": "stream",
     "text": [
      "['10', '20', '30', '40', '50', '60']\n",
      "[10, 20, 30, 40, 50, 60]\n"
     ]
    }
   ],
   "source": [
    "s=str(input())\n",
    "t=s.split()\n",
    "print(t)\n",
    "l=[]\n",
    "\n",
    "for i in range (len(t)):\n",
    "    l.append(int(t[i]))\n",
    "print(l)"
   ]
  },
  {
   "cell_type": "code",
   "execution_count": 20,
   "id": "ff2f107d",
   "metadata": {},
   "outputs": [
    {
     "name": "stdout",
     "output_type": "stream",
     "text": [
      "Invalid\n",
      "Valid\n"
     ]
    }
   ],
   "source": [
    "#Q11743: Credit Check\n",
    "n=int(input())\n",
    "l=[]\n",
    "m=[]\n",
    "o=[]\n",
    "for i in range(n):\n",
    "    s=str(input())\n",
    "    t=s.split()\n",
    "    for j in range(len(t)):\n",
    "        l.append(int(t[j]))\n",
    "    \n",
    "    for k in range(len(l)):\n",
    "        m.append(2*(l[k]//1000))\n",
    "        m.append(2*((l[k]%100)//10))\n",
    "    \n",
    "    for x in range(len(m)):\n",
    "        o.append(m[x]//10)\n",
    "        o.append(m[x]%10)\n",
    "    for y in range(len(l)):\n",
    "        o.append((l[y]%1000)//100)\n",
    "        o.append(l[y]%10)\n",
    "    \n",
    "    if sum(o)%10==0:\n",
    "        print('Valid')\n",
    "    else:\n",
    "        print('Invalid')\n",
    "    l=[]\n",
    "    m=[]\n",
    "    o=[]\n",
    "\n",
    "    "
   ]
  },
  {
   "cell_type": "code",
   "execution_count": 13,
   "id": "06cabd8f",
   "metadata": {},
   "outputs": [
    {
     "name": "stdout",
     "output_type": "stream",
     "text": [
      "1\n",
      "2\n"
     ]
    }
   ],
   "source": [
    "print(12//10)\n",
    "print(12%10)"
   ]
  },
  {
   "cell_type": "code",
   "execution_count": 5,
   "id": "7017a3e0",
   "metadata": {},
   "outputs": [
    {
     "name": "stdout",
     "output_type": "stream",
     "text": [
      "Case 1: 9\n"
     ]
    }
   ],
   "source": [
    "#Q10783\n",
    "n=int(input())\n",
    "l=[]\n",
    "\n",
    "for i in range (n):\n",
    "    a=int(input())\n",
    "    b=int(input())\n",
    "    for j in range(a,b+1):\n",
    "        if (j%2==1):\n",
    "            l.append(j)\n",
    "    print(f'Case {i+1}: {sum(l)}')\n",
    "    l=[]\n"
   ]
  },
  {
   "cell_type": "code",
   "execution_count": 1,
   "id": "a51e44dc",
   "metadata": {},
   "outputs": [
    {
     "ename": "TypeError",
     "evalue": "'list' object cannot be interpreted as an integer",
     "output_type": "error",
     "traceback": [
      "\u001b[0;31m---------------------------------------------------------------------------\u001b[0m",
      "\u001b[0;31mTypeError\u001b[0m                                 Traceback (most recent call last)",
      "Cell \u001b[0;32mIn[1], line 8\u001b[0m\n\u001b[1;32m      5\u001b[0m n\u001b[39m=\u001b[39m[]\n\u001b[1;32m      6\u001b[0m o\u001b[39m=\u001b[39m[]\n\u001b[0;32m----> 8\u001b[0m \u001b[39mfor\u001b[39;00m i \u001b[39min\u001b[39;00m \u001b[39mrange\u001b[39;49m(n):\n\u001b[1;32m      9\u001b[0m     s\u001b[39m=\u001b[39m\u001b[39mstr\u001b[39m(\u001b[39minput\u001b[39m())\n\u001b[1;32m     10\u001b[0m     \u001b[39mfor\u001b[39;00m i \u001b[39min\u001b[39;00m \u001b[39mrange\u001b[39m(\u001b[39mlen\u001b[39m(s)):\n",
      "\u001b[0;31mTypeError\u001b[0m: 'list' object cannot be interpreted as an integer"
     ]
    }
   ],
   "source": [
    "#Q10789: Prime Frequency\n",
    "n=int(input())\n",
    "l=[]\n",
    "m=[]\n",
    "n=[]\n",
    "o=[]\n",
    "\n",
    "for i in range(n):\n",
    "    s=str(input())\n",
    "    \n",
    "\n",
    "\n"
   ]
  },
  {
   "cell_type": "code",
   "execution_count": 4,
   "id": "34c5471f",
   "metadata": {},
   "outputs": [
    {
     "name": "stdout",
     "output_type": "stream",
     "text": [
      "['A', 'A', 'B', 'B', 'C', 'C', 'D', 'D']\n"
     ]
    }
   ],
   "source": [
    "s=str(input())\n",
    "l=[]\n",
    "for i in range (len(s)):\n",
    "    l.append(s[i])\n",
    "print(l)"
   ]
  }
 ],
 "metadata": {
  "kernelspec": {
   "display_name": "Python 3 (ipykernel)",
   "language": "python",
   "name": "python3"
  },
  "language_info": {
   "codemirror_mode": {
    "name": "ipython",
    "version": 3
   },
   "file_extension": ".py",
   "mimetype": "text/x-python",
   "name": "python",
   "nbconvert_exporter": "python",
   "pygments_lexer": "ipython3",
   "version": "3.10.12"
  }
 },
 "nbformat": 4,
 "nbformat_minor": 5
}
