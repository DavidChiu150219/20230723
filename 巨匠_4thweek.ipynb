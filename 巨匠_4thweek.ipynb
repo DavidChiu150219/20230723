{
 "cells": [
  {
   "cell_type": "code",
   "execution_count": 1,
   "metadata": {},
   "outputs": [
    {
     "name": "stdout",
     "output_type": "stream",
     "text": [
      "Defaulting to user installation because normal site-packages is not writeable\n",
      "Requirement already satisfied: numpy in /home/vscode/.local/lib/python3.10/site-packages (1.25.1)\n",
      "\n",
      "\u001b[1m[\u001b[0m\u001b[34;49mnotice\u001b[0m\u001b[1;39;49m]\u001b[0m\u001b[39;49m A new release of pip is available: \u001b[0m\u001b[31;49m23.0.1\u001b[0m\u001b[39;49m -> \u001b[0m\u001b[32;49m23.2.1\u001b[0m\n",
      "\u001b[1m[\u001b[0m\u001b[34;49mnotice\u001b[0m\u001b[1;39;49m]\u001b[0m\u001b[39;49m To update, run: \u001b[0m\u001b[32;49mpip install --upgrade pip\u001b[0m\n",
      "Defaulting to user installation because normal site-packages is not writeable\n",
      "Requirement already satisfied: scipy in /home/vscode/.local/lib/python3.10/site-packages (1.11.1)\n",
      "Requirement already satisfied: numpy<1.28.0,>=1.21.6 in /home/vscode/.local/lib/python3.10/site-packages (from scipy) (1.25.1)\n",
      "\n",
      "\u001b[1m[\u001b[0m\u001b[34;49mnotice\u001b[0m\u001b[1;39;49m]\u001b[0m\u001b[39;49m A new release of pip is available: \u001b[0m\u001b[31;49m23.0.1\u001b[0m\u001b[39;49m -> \u001b[0m\u001b[32;49m23.2.1\u001b[0m\n",
      "\u001b[1m[\u001b[0m\u001b[34;49mnotice\u001b[0m\u001b[1;39;49m]\u001b[0m\u001b[39;49m To update, run: \u001b[0m\u001b[32;49mpip install --upgrade pip\u001b[0m\n",
      "Defaulting to user installation because normal site-packages is not writeable\n",
      "Requirement already satisfied: sympy in /home/vscode/.local/lib/python3.10/site-packages (1.12)\n",
      "Requirement already satisfied: mpmath>=0.19 in /home/vscode/.local/lib/python3.10/site-packages (from sympy) (1.3.0)\n",
      "\n",
      "\u001b[1m[\u001b[0m\u001b[34;49mnotice\u001b[0m\u001b[1;39;49m]\u001b[0m\u001b[39;49m A new release of pip is available: \u001b[0m\u001b[31;49m23.0.1\u001b[0m\u001b[39;49m -> \u001b[0m\u001b[32;49m23.2.1\u001b[0m\n",
      "\u001b[1m[\u001b[0m\u001b[34;49mnotice\u001b[0m\u001b[1;39;49m]\u001b[0m\u001b[39;49m To update, run: \u001b[0m\u001b[32;49mpip install --upgrade pip\u001b[0m\n",
      "Defaulting to user installation because normal site-packages is not writeable\n",
      "Requirement already satisfied: matplotlib in /home/vscode/.local/lib/python3.10/site-packages (3.7.2)\n",
      "Requirement already satisfied: kiwisolver>=1.0.1 in /home/vscode/.local/lib/python3.10/site-packages (from matplotlib) (1.4.4)\n",
      "Requirement already satisfied: fonttools>=4.22.0 in /home/vscode/.local/lib/python3.10/site-packages (from matplotlib) (4.41.1)\n",
      "Requirement already satisfied: python-dateutil>=2.7 in /home/vscode/.local/lib/python3.10/site-packages (from matplotlib) (2.8.2)\n",
      "Requirement already satisfied: pyparsing<3.1,>=2.3.1 in /home/vscode/.local/lib/python3.10/site-packages (from matplotlib) (3.0.9)\n",
      "Requirement already satisfied: numpy>=1.20 in /home/vscode/.local/lib/python3.10/site-packages (from matplotlib) (1.25.1)\n",
      "Requirement already satisfied: contourpy>=1.0.1 in /home/vscode/.local/lib/python3.10/site-packages (from matplotlib) (1.1.0)\n",
      "Requirement already satisfied: cycler>=0.10 in /home/vscode/.local/lib/python3.10/site-packages (from matplotlib) (0.11.0)\n",
      "Requirement already satisfied: packaging>=20.0 in /home/vscode/.local/lib/python3.10/site-packages (from matplotlib) (23.1)\n",
      "Requirement already satisfied: pillow>=6.2.0 in /home/vscode/.local/lib/python3.10/site-packages (from matplotlib) (10.0.0)\n",
      "Requirement already satisfied: six>=1.5 in /home/vscode/.local/lib/python3.10/site-packages (from python-dateutil>=2.7->matplotlib) (1.16.0)\n",
      "\n",
      "\u001b[1m[\u001b[0m\u001b[34;49mnotice\u001b[0m\u001b[1;39;49m]\u001b[0m\u001b[39;49m A new release of pip is available: \u001b[0m\u001b[31;49m23.0.1\u001b[0m\u001b[39;49m -> \u001b[0m\u001b[32;49m23.2.1\u001b[0m\n",
      "\u001b[1m[\u001b[0m\u001b[34;49mnotice\u001b[0m\u001b[1;39;49m]\u001b[0m\u001b[39;49m To update, run: \u001b[0m\u001b[32;49mpip install --upgrade pip\u001b[0m\n",
      "Defaulting to user installation because normal site-packages is not writeable\n",
      "Requirement already satisfied: mpmath in /home/vscode/.local/lib/python3.10/site-packages (1.3.0)\n",
      "\n",
      "\u001b[1m[\u001b[0m\u001b[34;49mnotice\u001b[0m\u001b[1;39;49m]\u001b[0m\u001b[39;49m A new release of pip is available: \u001b[0m\u001b[31;49m23.0.1\u001b[0m\u001b[39;49m -> \u001b[0m\u001b[32;49m23.2.1\u001b[0m\n",
      "\u001b[1m[\u001b[0m\u001b[34;49mnotice\u001b[0m\u001b[1;39;49m]\u001b[0m\u001b[39;49m To update, run: \u001b[0m\u001b[32;49mpip install --upgrade pip\u001b[0m\n"
     ]
    }
   ],
   "source": [
    "!pip install numpy\n",
    "!pip install scipy\n",
    "!pip install sympy\n",
    "!pip install matplotlib\n",
    "!pip install mpmath"
   ]
  },
  {
   "cell_type": "code",
   "execution_count": 12,
   "metadata": {},
   "outputs": [
    {
     "data": {
      "text/latex": [
       "$\\displaystyle \\left(a + s\\right)^{- n - 1} \\Gamma\\left(n + 1\\right)$"
      ],
      "text/plain": [
       "(a + s)**(-n - 1)*gamma(n + 1)"
      ]
     },
     "metadata": {},
     "output_type": "display_data"
    },
    {
     "data": {
      "text/latex": [
       "$\\displaystyle t^{n} e^{- a t} \\theta\\left(t\\right)$"
      ],
      "text/plain": [
       "t**n*exp(-a*t)*Heaviside(t)"
      ]
     },
     "metadata": {},
     "output_type": "display_data"
    },
    {
     "data": {
      "text/latex": [
       "$\\displaystyle - a \\left(a + s\\right)^{- n - 1} \\Gamma\\left(n + 1\\right) + n \\left(a + s\\right)^{- n} \\Gamma\\left(n\\right)$"
      ],
      "text/plain": [
       "-a*(a + s)**(-n - 1)*gamma(n + 1) + n*gamma(n)/(a + s)**n"
      ]
     },
     "metadata": {},
     "output_type": "display_data"
    },
    {
     "data": {
      "text/latex": [
       "$\\displaystyle \\frac{s}{a^{2} + s^{2}}$"
      ],
      "text/plain": [
       "s/(a**2 + s**2)"
      ]
     },
     "metadata": {},
     "output_type": "display_data"
    },
    {
     "data": {
      "text/latex": [
       "$\\displaystyle \\cos{\\left(a t \\right)} \\theta\\left(t\\right)$"
      ],
      "text/plain": [
       "cos(a*t)*Heaviside(t)"
      ]
     },
     "metadata": {},
     "output_type": "display_data"
    },
    {
     "data": {
      "text/latex": [
       "$\\displaystyle a^{2} \\left(a + s\\right)^{- n - 1} \\Gamma\\left(n + 1\\right) - 2 a n \\left(a + s\\right)^{- n} \\Gamma\\left(n\\right) + \\frac{n^{2} \\left(a + s\\right)^{2 - n} \\Gamma\\left(n - 1\\right)}{a + s} - \\frac{n \\left(a + s\\right)^{2 - n} \\Gamma\\left(n - 1\\right)}{a + s}$"
      ],
      "text/plain": [
       "a**2*(a + s)**(-n - 1)*gamma(n + 1) - 2*a*n*gamma(n)/(a + s)**n + n**2*(a + s)**(2 - n)*gamma(n - 1)/(a + s) - n*(a + s)**(2 - n)*gamma(n - 1)/(a + s)"
      ]
     },
     "metadata": {},
     "output_type": "display_data"
    },
    {
     "data": {
      "text/latex": [
       "$\\displaystyle - \\frac{a^{2}}{a^{2} + s^{2}}$"
      ],
      "text/plain": [
       "-a**2/(a**2 + s**2)"
      ]
     },
     "metadata": {},
     "output_type": "display_data"
    }
   ],
   "source": [
    "import sympy\n",
    "x,y,s,t=sympy.var('x,y,s,t')\n",
    "a,n = sympy.symbols('a,n',real=True,positive=True)\n",
    "\n",
    "def L(f):\n",
    "    return sympy.laplace_transform(f,t,s,noconds=True)\n",
    "\n",
    "def invL(F):\n",
    "    return sympy.inverse_laplace_transform(F,s,t)\n",
    "\n",
    "f=sympy.exp(-a*t)*t**n\n",
    "F=L(f)\n",
    "\n",
    "g=f.diff(t)\n",
    "\n",
    "h=sympy.cos(a*t)\n",
    "H=L(h)\n",
    "\n",
    "i=g.diff(t)\n",
    "\n",
    "j=h.diff(t)\n",
    "\n",
    "display(F)\n",
    "display(invL(F))\n",
    "\n",
    "display(L(g))\n",
    "\n",
    "display(H)\n",
    "display(invL(H))\n",
    "\n",
    "display(L(i))\n",
    "\n",
    "display(L(j))"
   ]
  },
  {
   "cell_type": "code",
   "execution_count": 19,
   "metadata": {},
   "outputs": [
    {
     "name": "stdout",
     "output_type": "stream",
     "text": [
      "[2, 3, 5, 7, 11, 13, 17, 19, 23, 29, 31, 37, 41, 43, 47, 53, 59, 61, 67, 71, 73, 79, 83, 89, 97]\n"
     ]
    }
   ],
   "source": [
    "def prime(s:int,e:int):\n",
    "    l=[]\n",
    "    m=[]\n",
    "    for i in range(s,e+1):\n",
    "    \n",
    "        for j in range(1,i):\n",
    "            if i%j==False:\n",
    "                l.append(j)\n",
    "        if l==[1]:\n",
    "            m.append(i)\n",
    "        l=[]\n",
    "    print(m)\n",
    "    return None\n",
    "\n",
    "prime(1,100)\n"
   ]
  },
  {
   "cell_type": "code",
   "execution_count": 22,
   "metadata": {},
   "outputs": [
    {
     "name": "stdout",
     "output_type": "stream",
     "text": [
      "Help on function L in module __main__:\n",
      "\n",
      "L(f)\n",
      "    Laplace_transform\n",
      "\n"
     ]
    }
   ],
   "source": [
    "import sympy\n",
    "x,y,s,t=sympy.var('x,y,s,t')\n",
    "a,n = sympy.symbols('a,n',real=True,positive=True)\n",
    "\n",
    "def L(f):\n",
    "    '''\n",
    "    Laplace_transform\n",
    "    '''\n",
    "    return sympy.laplace_transform(f,t,s,noconds=True)\n",
    "\n",
    "help(L)"
   ]
  },
  {
   "cell_type": "code",
   "execution_count": 57,
   "metadata": {},
   "outputs": [
    {
     "name": "stdout",
     "output_type": "stream",
     "text": [
      "République français\n",
      "0é000l0q0e0f000ç000\n"
     ]
    }
   ],
   "source": [
    "s='République français'\n",
    "\n",
    "for i in s:\n",
    "    print(i,end='')\n",
    "print()\n",
    "for i,a in enumerate(s):\n",
    "    if i%2==False:\n",
    "        s=s.replace(s[i],'0')\n",
    "print(s)\n"
   ]
  },
  {
   "cell_type": "code",
   "execution_count": 46,
   "metadata": {},
   "outputs": [
    {
     "name": "stdout",
     "output_type": "stream",
     "text": [
      "[[ 1  1  3  1  5]\n",
      " [ 1  7  1  9  1]\n",
      " [11  1 13  1 15]]\n",
      "[[-1 -1 -1]\n",
      " [ 4  6 -1]\n",
      " [10 12 14]\n",
      " [16 18 20]\n",
      " [22 24 26]]\n",
      "[[159 179 190]\n",
      " [203 239 212]\n",
      " [469 529 580]]\n"
     ]
    }
   ],
   "source": [
    "import numpy as np\n",
    "str1=input()\n",
    "str2=input()\n",
    "fibonacci=[]\n",
    "for i in range(40):\n",
    "    fibonacci+=[int( 1/(5**0.5)*(((1+5**0.5)/2)**i-((1-5**0.5)/2)**i))]\n",
    "c=[int(i) for i in str1.split()]\n",
    "d=[int(i) for i in str2.split()]\n",
    "for index, value in enumerate (c):\n",
    "    if value%2==0:\n",
    "        c[index]=1\n",
    "for index, value in enumerate (d):\n",
    "    if fibonacci.count(d[index])>0:\n",
    "        d[index]=-1        \n",
    "x=np.array(c).reshape(3,5)\n",
    "y=np.array(d).reshape(5,3)\n",
    "\n",
    "print(x)\n",
    "print(y)\n",
    "print(np.dot(x,y))"
   ]
  },
  {
   "cell_type": "code",
   "execution_count": null,
   "metadata": {},
   "outputs": [],
   "source": [
    "1 2 3 4 5 6 7 8 9 10 11 12 13 14 15\n",
    "2 0 2 4 6 8 10 12 14 16 18 20 22 24 26"
   ]
  },
  {
   "cell_type": "code",
   "execution_count": 62,
   "metadata": {},
   "outputs": [
    {
     "data": {
      "text/plain": [
       "['fuck', 'you']"
      ]
     },
     "execution_count": 62,
     "metadata": {},
     "output_type": "execute_result"
    }
   ],
   "source": [
    "'a'.join('fuck')\n",
    "'fuck you'.split(' ')"
   ]
  }
 ],
 "metadata": {
  "kernelspec": {
   "display_name": "Python 3",
   "language": "python",
   "name": "python3"
  },
  "language_info": {
   "codemirror_mode": {
    "name": "ipython",
    "version": 3
   },
   "file_extension": ".py",
   "mimetype": "text/x-python",
   "name": "python",
   "nbconvert_exporter": "python",
   "pygments_lexer": "ipython3",
   "version": "3.10.12"
  },
  "orig_nbformat": 4
 },
 "nbformat": 4,
 "nbformat_minor": 2
}
